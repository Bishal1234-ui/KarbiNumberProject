{
 "cells": [
  {
   "cell_type": "markdown",
   "metadata": {},
   "source": [
    "## Detection by writing number "
   ]
  },
  {
   "cell_type": "code",
   "execution_count": 9,
   "metadata": {},
   "outputs": [],
   "source": [
    "from tensorflow.keras.models import load_model\n",
    "from PIL import Image, ImageOps\n",
    "import numpy as np\n",
    "\n",
    "model = load_model('KarbiClass.h5')  # Loading the model"
   ]
  },
  {
   "cell_type": "code",
   "execution_count": 3,
   "metadata": {},
   "outputs": [],
   "source": [
    "import PIL\n",
    "from PIL import ImageTk, ImageDraw, Image\n",
    "from tkinter import *\n",
    "import tensorflow.keras.preprocessing.image as image\n",
    "import os"
   ]
  },
  {
   "cell_type": "code",
   "execution_count": 4,
   "metadata": {},
   "outputs": [],
   "source": [
    "# White Screen for writing numbers ( using tkinter)\n",
    "\n",
    "def create_new_image():\n",
    "    width = 900\n",
    "    height = 900\n",
    "    center = height // 2\n",
    "    white = (255, 255, 255)\n",
    "    green = (0, 128, 0)\n",
    "    \n",
    "    def save():\n",
    "        filename = 'newImage\\\\ok.jpg'\n",
    "        image.save(filename)\n",
    "        \n",
    "    def paint(event):\n",
    "        x1, y1 = (event.x - 1), (event.y - 1)\n",
    "        x2, y2 = (event.x + 1), (event.y + 1)\n",
    "        cv.create_oval(x1, y1, x2, y2, fill = 'black', width = 20)\n",
    "        draw.line([x1, y1, x2, y2], fill = 'black', width = 20)\n",
    "        \n",
    "    root = Tk()\n",
    "    \n",
    "    cv = Canvas(root, width = width, height = height, bg = 'white')\n",
    "    cv.pack()\n",
    "    \n",
    "    image = PIL.Image.new('RGB', (width, height), white)\n",
    "    draw = ImageDraw.Draw(image)\n",
    "    \n",
    "    cv.pack(expand = YES, fill = BOTH)\n",
    "    cv.bind(\"<B1-Motion>\", paint)\n",
    "    \n",
    "    button = Button(text = 'Save', command = save)\n",
    "    button.pack()\n",
    "    \n",
    "    root.mainloop()"
   ]
  },
  {
   "cell_type": "code",
   "execution_count": 5,
   "metadata": {},
   "outputs": [],
   "source": [
    "def delete_created_image():\n",
    "    os.remove('newImage\\\\ok.jpg')"
   ]
  },
  {
   "cell_type": "code",
   "execution_count": 25,
   "metadata": {},
   "outputs": [],
   "source": [
    "import matplotlib.pyplot as plt\n",
    "import matplotlib\n",
    "\n",
    "def draw_n_guess_the_character():\n",
    "    create_new_image()\n",
    "    \n",
    "    # The Image prediction part\n",
    "    img1 = image.load_img('newImage\\\\ok.jpg', target_size=(150, 150))\n",
    "    y = image.img_to_array(img1)\n",
    "    y = np.expand_dims(y, axis=0)\n",
    "    classes = model.predict(y) \n",
    "    if classes[0][0] == 1:\n",
    "        print(\"The number is zero\")\n",
    "    elif classes[0][1] == 1:\n",
    "        print(\"The number is one\")\n",
    "    elif classes[0][2] == 1:\n",
    "        print(\"The number is two\")\n",
    "    elif classes[0][3] == 1:\n",
    "        print(\"The number is three\")\n",
    "    elif classes[0][4] == 1:\n",
    "        print(\"The number is four\")\n",
    "    elif classes[0][5] == 1:\n",
    "        print(\"The number is five\")\n",
    "    elif classes[0][6] == 1:\n",
    "        print(\"The number is six\")\n",
    "    elif classes[0][7] == 1:\n",
    "        print(\"The number is seven\")\n",
    "    elif classes[0][8] == 1:\n",
    "        print(\"The number is eight\")\n",
    "    elif classes[0][9] == 1:\n",
    "        print(\"The number is nine\")\n",
    "    \n",
    "    \n",
    "    plt.imshow(img1)\n",
    "    delete_created_image()\n"
   ]
  },
  {
   "cell_type": "markdown",
   "metadata": {},
   "source": [
    "## Run the below code and draw a number in the pop up up screen\n",
    "After drawig the number, close the window to see the result ( ```dont minimise, close it fully after drawing to see prediction```)"
   ]
  },
  {
   "cell_type": "code",
   "execution_count": 28,
   "metadata": {},
   "outputs": [
    {
     "name": "stdout",
     "output_type": "stream",
     "text": [
      "1/1 [==============================] - 0s 40ms/step\n",
      "The number is three\n"
     ]
    },
    {
     "data": {
      "image/png": "[encoded data removed]",
      "text/plain": [
       "<Figure size 432x288 with 1 Axes>"
      ]
     },
     "metadata": {
      "needs_background": "light"
     },
     "output_type": "display_data"
    }
   ],
   "source": [
    "draw_n_guess_the_character()"
   ]
  },
  {
   "cell_type": "code",
   "execution_count": null,
   "metadata": {},
   "outputs": [],
   "source": []
  }
 ],
 "metadata": {
  "kernelspec": {
   "display_name": "Python 3",
   "language": "python",
   "name": "python3"
  },
  "language_info": {
   "codemirror_mode": {
    "name": "ipython",
    "version": 3
   },
   "file_extension": ".py",
   "mimetype": "text/x-python",
   "name": "python",
   "nbconvert_exporter": "python",
   "pygments_lexer": "ipython3",
   "version": "3.8.5"
  }
 },
 "nbformat": 4,
 "nbformat_minor": 4
}
