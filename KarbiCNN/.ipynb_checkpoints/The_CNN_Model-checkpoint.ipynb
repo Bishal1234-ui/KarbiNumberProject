{
 "cells": [
  {
   "cell_type": "markdown",
   "metadata": {
    "id": "qz3c1qJb_fA-"
   },
   "source": [
    "# Training the Karbi Number Detection model"
   ]
  },
  {
   "cell_type": "code",
   "execution_count": 4,
   "metadata": {
    "colab": {
     "base_uri": "https://localhost:8080/"
    },
    "id": "omkIwFfnJcR_",
    "outputId": "794ccea6-7677-4e94-d829-93d623675820"
   },
   "outputs": [
    {
     "name": "stdout",
     "output_type": "stream",
     "text": [
      "No of zero are: 244\n",
      "No of one are: 244\n",
      "No of two are: 244\n"
     ]
    }
   ],
   "source": [
    "import os \n",
    "train_dir = '/train'  # Provide the location of the Train data\n",
    "test_dir = '/test'   # Provide the location of the test data\n",
    "\n",
    "zero_dir = os.path.join(train_dir, '0')\n",
    "one_dir = os.path.join(train_dir, '1')\n",
    "two_dir = os.path.join(train_dir, '2')\n",
    "three_dir = os.path.join(train_dir, '3')\n",
    "four_dir = os.path.join(train_dir, '4')\n",
    "five_dir = os.path.join(train_dir, '5')\n",
    "six_dir = os.path.join(train_dir, '6')\n",
    "seven_dir = os.path.join(train_dir, '7')\n",
    "eight_dir = os.path.join(train_dir, '8')\n",
    "nine_dir = os.path.join(train_dir, '9')\n",
    "\n",
    "print(\"No of zero are: \" + str(len(os.listdir(zero_dir))))\n",
    "print(\"No of one are: \" + str(len(os.listdir(one_dir))))\n",
    "print(\"No of two are: \" + str(len(os.listdir(two_dir))))\n",
    "\n",
    "# total train image = 2440   (61 x 3) x 10   Three times copied the images to get more images for training\n",
    "# total test image = 610    ( 61 x 10 )\n"
   ]
  },
  {
   "cell_type": "code",
   "execution_count": 15,
   "metadata": {
    "colab": {
     "base_uri": "https://localhost:8080/"
    },
    "id": "5znTf8aaJpjP",
    "outputId": "c0ed89c0-518a-4185-dd24-4783890e3295"
   },
   "outputs": [
    {
     "name": "stdout",
     "output_type": "stream",
     "text": [
      "Model: \"sequential_1\"\n",
      "_________________________________________________________________\n",
      " Layer (type)                Output Shape              Param #   \n",
      "=================================================================\n",
      " conv2d_4 (Conv2D)           (None, 148, 148, 64)      1792      \n",
      "                                                                 \n",
      " max_pooling2d_4 (MaxPooling  (None, 74, 74, 64)       0         \n",
      " 2D)                                                             \n",
      "                                                                 \n",
      " conv2d_5 (Conv2D)           (None, 72, 72, 64)        36928     \n",
      "                                                                 \n",
      " max_pooling2d_5 (MaxPooling  (None, 36, 36, 64)       0         \n",
      " 2D)                                                             \n",
      "                                                                 \n",
      " conv2d_6 (Conv2D)           (None, 34, 34, 128)       73856     \n",
      "                                                                 \n",
      " max_pooling2d_6 (MaxPooling  (None, 17, 17, 128)      0         \n",
      " 2D)                                                             \n",
      "                                                                 \n",
      " conv2d_7 (Conv2D)           (None, 15, 15, 128)       147584    \n",
      "                                                                 \n",
      " max_pooling2d_7 (MaxPooling  (None, 7, 7, 128)        0         \n",
      " 2D)                                                             \n",
      "                                                                 \n",
      " flatten_1 (Flatten)         (None, 6272)              0         \n",
      "                                                                 \n",
      " dropout_1 (Dropout)         (None, 6272)              0         \n",
      "                                                                 \n",
      " dense_2 (Dense)             (None, 1024)              6423552   \n",
      "                                                                 \n",
      " dense_3 (Dense)             (None, 10)                10250     \n",
      "                                                                 \n",
      "=================================================================\n",
      "Total params: 6,693,962\n",
      "Trainable params: 6,693,962\n",
      "Non-trainable params: 0\n",
      "_________________________________________________________________\n"
     ]
    }
   ],
   "source": [
    "import tensorflow as tf\n",
    "from tensorflow.keras import layers\n",
    "model = tf.keras.models.Sequential([\n",
    "                                    layers.Conv2D(64,(3,3),activation='relu', input_shape=(150,150,3)),\n",
    "                                    layers.MaxPooling2D(2,2),\n",
    "                                    layers.Conv2D(64,(3,3),activation='relu'),\n",
    "                                    layers.MaxPooling2D(2,2),\n",
    "                                    layers.Conv2D(128,(3,3),activation='relu'),\n",
    "                                    layers.MaxPooling2D(2,2),\n",
    "                                    layers.Conv2D(128,(3,3),activation='relu'),\n",
    "                                    layers.MaxPooling2D(2,2),\n",
    "                                    layers.Flatten(),\n",
    "                                    layers.Dropout(0.5),\n",
    "                                    layers.Dense(1024,activation='relu'),\n",
    "                                    layers.Dense(10,activation='softmax')  # softmax is one of the best activation for multiclassification\n",
    "])\n",
    "\n",
    "model.compile(\n",
    "    loss = 'categorical_crossentropy',  # categorical crossentropy is a loss used in multi class classification model\n",
    "    optimizer='rmsprop',   \n",
    "    metrics=['accuracy']\n",
    ")\n",
    "\n",
    "model.summary()"
   ]
  },
  {
   "cell_type": "code",
   "execution_count": 13,
   "metadata": {
    "colab": {
     "base_uri": "https://localhost:8080/"
    },
    "id": "7i-zi5v0JseH",
    "outputId": "b37514b3-c442-40c9-cdb3-bf7527c9a8e6"
   },
   "outputs": [
    {
     "name": "stdout",
     "output_type": "stream",
     "text": [
      "Found 2440 images belonging to 10 classes.\n",
      "Found 610 images belonging to 10 classes.\n"
     ]
    }
   ],
   "source": [
    "from tensorflow.keras.preprocessing.image import ImageDataGenerator\n",
    "from keras.preprocessing import image\n",
    "\n",
    "train_datagen = ImageDataGenerator(rescale=1/255)   # rescaling all images to same size\n",
    "validation_datagen = ImageDataGenerator(rescale=1/255)\n",
    "\n",
    "train_generator = train_datagen.flow_from_directory(\n",
    "    train_dir,\n",
    "    batch_size=122,\n",
    "    target_size=(150,150),\n",
    "    class_mode='categorical'     \n",
    ")\n",
    "validation_generator = test_datagen.flow_from_directory(\n",
    "    test_dir,\n",
    "    batch_size=150,\n",
    "    target_size=(150,150),\n",
    "    class_mode='categorical'   \n",
    ")"
   ]
  },
  {
   "cell_type": "code",
   "execution_count": 18,
   "metadata": {
    "colab": {
     "base_uri": "https://localhost:8080/"
    },
    "id": "HggvRc3PJwI2",
    "outputId": "e2c3f739-e050-4e26-b937-0f19268ea321"
   },
   "outputs": [
    {
     "name": "stdout",
     "output_type": "stream",
     "text": [
      "Epoch 1/15\n",
      "20/20 [==============================] - 188s 9s/step - loss: 0.1612 - accuracy: 0.9570 - val_loss: 0.0085 - val_accuracy: 1.0000\n",
      "Epoch 2/15\n",
      "20/20 [==============================] - 187s 9s/step - loss: 0.0166 - accuracy: 0.9951 - val_loss: 5.7606e-04 - val_accuracy: 1.0000\n",
      "Epoch 3/15\n",
      "20/20 [==============================] - 188s 9s/step - loss: 0.0965 - accuracy: 0.9680 - val_loss: 0.0020 - val_accuracy: 1.0000\n",
      "Epoch 4/15\n",
      "20/20 [==============================] - 193s 10s/step - loss: 0.0161 - accuracy: 0.9951 - val_loss: 0.0567 - val_accuracy: 0.9820\n",
      "Epoch 5/15\n",
      "20/20 [==============================] - 187s 9s/step - loss: 0.0276 - accuracy: 0.9922 - val_loss: 0.0096 - val_accuracy: 0.9951\n",
      "Epoch 6/15\n",
      "20/20 [==============================] - 186s 9s/step - loss: 0.0617 - accuracy: 0.9816 - val_loss: 3.3162e-04 - val_accuracy: 1.0000\n",
      "Epoch 7/15\n",
      "20/20 [==============================] - 188s 9s/step - loss: 0.0903 - accuracy: 0.9779 - val_loss: 0.0093 - val_accuracy: 0.9984\n",
      "Epoch 8/15\n",
      "20/20 [==============================] - 188s 9s/step - loss: 0.0072 - accuracy: 0.9975 - val_loss: 1.8243e-04 - val_accuracy: 1.0000\n",
      "Epoch 9/15\n",
      "20/20 [==============================] - 187s 9s/step - loss: 0.0921 - accuracy: 0.9783 - val_loss: 0.0233 - val_accuracy: 0.9902\n",
      "Epoch 10/15\n",
      "20/20 [==============================] - 189s 9s/step - loss: 0.0105 - accuracy: 0.9967 - val_loss: 1.7844e-04 - val_accuracy: 1.0000\n",
      "Epoch 11/15\n",
      "20/20 [==============================] - 188s 9s/step - loss: 0.0016 - accuracy: 1.0000 - val_loss: 1.1203e-05 - val_accuracy: 1.0000\n",
      "Epoch 12/15\n",
      "20/20 [==============================] - 187s 9s/step - loss: 0.0640 - accuracy: 0.9844 - val_loss: 0.1136 - val_accuracy: 0.9525\n",
      "Epoch 13/15\n",
      "20/20 [==============================] - 188s 9s/step - loss: 0.0133 - accuracy: 0.9947 - val_loss: 4.0137e-05 - val_accuracy: 1.0000\n",
      "Epoch 14/15\n",
      "20/20 [==============================] - 188s 9s/step - loss: 0.0325 - accuracy: 0.9906 - val_loss: 7.5282e-04 - val_accuracy: 1.0000\n",
      "Epoch 15/15\n",
      "20/20 [==============================] - 188s 9s/step - loss: 0.0184 - accuracy: 0.9963 - val_loss: 1.4576e-04 - val_accuracy: 1.0000\n"
     ]
    }
   ],
   "source": [
    "history = model.fit(\n",
    "    train_generator,\n",
    "    steps_per_epoch=20,   # steps_per_epochs = total train data/ batch size = 2440/122 = 20\n",
    "    epochs=15,\n",
    "    validation_data = validation_generator,\n",
    "    validation_steps=4,   \n",
    "    verbose=1\n",
    ")"
   ]
  },
  {
   "cell_type": "code",
   "execution_count": 19,
   "metadata": {
    "colab": {
     "base_uri": "https://localhost:8080/",
     "height": 298
    },
    "id": "IMsJ3uC-KRox",
    "outputId": "899b3aad-f0a1-4dba-f687-d041b24322f1"
   },
   "outputs": [
    {
     "data": {
      "image/png": "[encoded data removed]",
      "text/plain": [
       "<Figure size 432x288 with 1 Axes>"
      ]
     },
     "metadata": {
      "needs_background": "light"
     },
     "output_type": "display_data"
    },
    {
     "data": {
      "text/plain": [
       "<Figure size 432x288 with 0 Axes>"
      ]
     },
     "metadata": {},
     "output_type": "display_data"
    }
   ],
   "source": [
    "import matplotlib.pyplot as plt\n",
    "acc = history.history['accuracy']\n",
    "val_acc = history.history['val_accuracy']\n",
    "loss = history.history['loss']\n",
    "val_loss = history.history['val_loss']\n",
    "\n",
    "epochs = range(len(acc))\n",
    "\n",
    "plt.plot(epochs, acc, 'r', label='Training accuracy')\n",
    "plt.plot(epochs, val_acc, 'b', label='Validation accuracy')\n",
    "plt.title('Training and validation accuracy')\n",
    "plt.legend(loc=0)\n",
    "plt.figure()\n",
    "\n",
    "\n",
    "plt.show()"
   ]
  },
  {
   "cell_type": "markdown",
   "metadata": {
    "colab": {
     "base_uri": "https://localhost:8080/"
    },
    "id": "aLJBcFEXiBTT",
    "outputId": "c608780f-78fe-4c62-c1c1-dad1f40b1cc1"
   },
   "source": [
    "## Saving the model to .h5"
   ]
  },
  {
   "cell_type": "code",
   "execution_count": null,
   "metadata": {
    "id": "JffF-VAWmqCa"
   },
   "outputs": [],
   "source": [
    "model.save(\"karbiClass.h5\")"
   ]
  },
  {
   "cell_type": "markdown",
   "metadata": {},
   "source": [
    "### Now go to the GUI_Detection.ipynb file for graphical detection"
   ]
  },
  {
   "cell_type": "code",
   "execution_count": null,
   "metadata": {},
   "outputs": [],
   "source": [
    "# THIS BELOW CODE WORKS IN GOOGLE COLAB  \n",
    "\n",
    "# import numpy as np\n",
    "# from google.colab import files\n",
    "# from keras.preprocessing import image\n",
    "\n",
    "# uploaded = files.upload()\n",
    "\n",
    "# for fn in uploaded.keys():\n",
    " \n",
    "#   # predicting images\n",
    "#   path = fn\n",
    "#   img = image.load_img(path, target_size=(150, 150))\n",
    "#   x = image.img_to_array(img)\n",
    "#   x = np.expand_dims(x, axis=0)\n",
    "\n",
    "#   images = np.vstack([x])\n",
    "#   classes = model.predict(images, batch_size=10)  # classes is a 2d array in format [[0 1 0]] or like tht\n",
    "#   print(fn)\n",
    "#   print(classes)\n",
    "#   if classes[0][0] == 1:\n",
    "#     print(fn + \" is zero\")\n",
    "#   elif classes[0][1] == 1:\n",
    "#     print(fn + \" is one\")\n",
    "#   elif classes[0][2] == 1:\n",
    "#     print(fn + \" is two\")\n",
    "#   elif classes[0][3] == 1:\n",
    "#     print(fn + \" is three\")\n",
    "#   elif classes[0][4] == 1:\n",
    "#     print(fn + \" is four\")\n",
    "#   elif classes[0][5] == 1:\n",
    "#     print(fn + \" is five\")\n",
    "#   elif classes[0][6] == 1:\n",
    "#     print(fn + \" is six\")\n",
    "#   elif classes[0][7] == 1:\n",
    "#     print(fn + \" is seven\")\n",
    "#   elif classes[0][8] == 1:\n",
    "#     print(fn + \" is eight\")\n",
    "#   elif classes[0][9] == 1:\n",
    "#     print(fn + \" is nine\")"
   ]
  },
  {
   "cell_type": "code",
   "execution_count": null,
   "metadata": {},
   "outputs": [],
   "source": []
  }
 ],
 "metadata": {
  "colab": {
   "name": "Untitled0.ipynb",
   "provenance": []
  },
  "kernelspec": {
   "display_name": "Python 3",
   "language": "python",
   "name": "python3"
  },
  "language_info": {
   "codemirror_mode": {
    "name": "ipython",
    "version": 3
   },
   "file_extension": ".py",
   "mimetype": "text/x-python",
   "name": "python",
   "nbconvert_exporter": "python",
   "pygments_lexer": "ipython3",
   "version": "3.8.5"
  }
 },
 "nbformat": 4,
 "nbformat_minor": 1
}
